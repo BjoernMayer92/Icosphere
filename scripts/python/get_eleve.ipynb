{
 "cells": [
  {
   "cell_type": "markdown",
   "metadata": {},
   "source": [
    "# 1 Import Packages"
   ]
  },
  {
   "cell_type": "code",
   "execution_count": 9,
   "metadata": {},
   "outputs": [],
   "source": [
    "import requests\n",
    "from pathlib import Path\n",
    "import json\n",
    "import numpy as np\n",
    "from tqdm import tqdm\n",
    "import math"
   ]
  },
  {
   "cell_type": "markdown",
   "metadata": {},
   "source": [
    "# 2 Metadata"
   ]
  },
  {
   "cell_type": "code",
   "execution_count": 2,
   "metadata": {},
   "outputs": [],
   "source": [
    "proj_path = Path.cwd().parents[1]"
   ]
  },
  {
   "cell_type": "code",
   "execution_count": 3,
   "metadata": {},
   "outputs": [],
   "source": [
    "data_path = os.path.join(proj_path, \"data\")"
   ]
  },
  {
   "cell_type": "markdown",
   "metadata": {},
   "source": [
    "# 3 load grid"
   ]
  },
  {
   "cell_type": "code",
   "execution_count": 68,
   "metadata": {},
   "outputs": [],
   "source": [
    "grid_file = os.path.join(data_path, \"grid_spherical.json\")\n",
    "conf_file = os.path.join(data_path, \"config.json\")"
   ]
  },
  {
   "cell_type": "code",
   "execution_count": 70,
   "metadata": {},
   "outputs": [],
   "source": [
    "with open(grid_file,\"rb\") as file:\n",
    "    grid = json.load(file)\n",
    "\n",
    "with open(conf_file,\"rb\") as file:\n",
    "    conf = json.load(file)"
   ]
  },
  {
   "cell_type": "markdown",
   "metadata": {},
   "source": [
    "# 4 Functions"
   ]
  },
  {
   "cell_type": "code",
   "execution_count": 6,
   "metadata": {},
   "outputs": [],
   "source": [
    "def rad_to_deg(rad):\n",
    "    deg = rad*360/(2*np.pi)\n",
    "    return deg"
   ]
  },
  {
   "cell_type": "markdown",
   "metadata": {},
   "source": [
    "# 5 API call"
   ]
  },
  {
   "cell_type": "code",
   "execution_count": 55,
   "metadata": {},
   "outputs": [
    {
     "data": {
      "text/plain": [
       "{'results': [{'dataset': 'eudem25m',\n",
       "   'elevation': None,\n",
       "   'location': {'lat': -2.3671, 'lng': 19.5376}}],\n",
       " 'status': 'OK'}"
      ]
     },
     "execution_count": 55,
     "metadata": {},
     "output_type": "execute_result"
    }
   ],
   "source": [
    "response"
   ]
  },
  {
   "cell_type": "code",
   "execution_count": 103,
   "metadata": {},
   "outputs": [
    {
     "name": "stderr",
     "output_type": "stream",
     "text": [
      "100%|██████████| 768/768 [01:22<00:00,  9.34it/s]\n",
      "100%|██████████| 768/768 [01:21<00:00,  9.37it/s]\n",
      "100%|██████████| 768/768 [01:18<00:00,  9.78it/s]\n",
      "100%|██████████| 768/768 [01:16<00:00, 10.09it/s]\n",
      "100%|██████████| 768/768 [01:22<00:00,  9.31it/s]\n",
      "100%|██████████| 768/768 [01:18<00:00,  9.83it/s]\n",
      "100%|██████████| 768/768 [01:15<00:00, 10.11it/s]\n",
      "100%|██████████| 768/768 [01:17<00:00,  9.97it/s]\n",
      "100%|██████████| 768/768 [01:18<00:00,  9.73it/s]\n",
      "100%|██████████| 768/768 [01:19<00:00,  9.71it/s]\n",
      "100%|██████████| 768/768 [01:20<00:00,  9.54it/s]\n",
      "100%|██████████| 768/768 [01:18<00:00,  9.73it/s]\n",
      "100%|██████████| 768/768 [01:18<00:00,  9.80it/s]\n",
      "100%|██████████| 768/768 [01:18<00:00,  9.79it/s]\n",
      "100%|██████████| 768/768 [01:17<00:00,  9.89it/s]\n",
      "100%|██████████| 768/768 [01:15<00:00, 10.14it/s]\n",
      "100%|██████████| 768/768 [01:18<00:00,  9.81it/s]\n",
      "100%|██████████| 768/768 [01:18<00:00,  9.79it/s]\n",
      "100%|██████████| 768/768 [01:16<00:00,  9.99it/s]\n",
      "100%|██████████| 768/768 [01:18<00:00,  9.83it/s]\n"
     ]
    }
   ],
   "source": [
    "status = []\n",
    "elevation = []\n",
    "for icosahedron_face_index in range(len(grid)):\n",
    "    elevation.append([])\n",
    "    status.append([])\n",
    "    vertices_string = grid[icosahedron_face_index]\n",
    "    for vertex_string in tqdm(vertices_string):\n",
    "        radius, lon_rad, lat_rad = list(map(float,vertex_string.replace(\"(\",\"\").replace(\")\",\"\").split(\",\")))\n",
    "        lon = rad_to_deg(lon_rad)\n",
    "        lat = rad_to_deg(lat_rad)\n",
    "\n",
    "        if math.floor(lon) == 180:\n",
    "            lon=-180\n",
    "        \n",
    "        request_string = \"https://api.opentopodata.org/v1/gebco2020?locations={},{}\".format(lat,lon)\n",
    "        response = requests.get(request_string).json()        \n",
    "        status[icosahedron_face_index].append(response[\"status\"])\n",
    "        elevation_in_meters = response[\"results\"][0][\"elevation\"]\n",
    "        elevation_in_godot = elevation_in_meters*conf[\"radius_godot\"]/conf[\"radius_earth\"]\n",
    "        elevation[icosahedron_face_index].append(elevation_in_meters)"
   ]
  },
  {
   "cell_type": "code",
   "execution_count": 110,
   "metadata": {},
   "outputs": [],
   "source": [
    "with open(os.path.join(proj_path, \"data\", \"elevation.json\"), \"w\") as file:\n",
    "    json.dump(elevation, file)"
   ]
  },
  {
   "cell_type": "markdown",
   "metadata": {},
   "source": [
    "\n"
   ]
  }
 ],
 "metadata": {
  "kernelspec": {
   "display_name": "Python 3.10.8 ('request')",
   "language": "python",
   "name": "python3"
  },
  "language_info": {
   "codemirror_mode": {
    "name": "ipython",
    "version": 3
   },
   "file_extension": ".py",
   "mimetype": "text/x-python",
   "name": "python",
   "nbconvert_exporter": "python",
   "pygments_lexer": "ipython3",
   "version": "3.10.8"
  },
  "orig_nbformat": 4,
  "vscode": {
   "interpreter": {
    "hash": "0d373f9952347ab6679c37502c8d1f90b96433ee9b3eae771e998d9275b3c48c"
   }
  }
 },
 "nbformat": 4,
 "nbformat_minor": 2
}
